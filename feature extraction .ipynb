{
 "cells": [
  {
   "cell_type": "code",
   "execution_count": 1,
   "metadata": {
    "scrolled": false
   },
   "outputs": [
    {
     "name": "stderr",
     "output_type": "stream",
     "text": [
      "E:\\ML\\Anaconda3\\envs\\TF\\lib\\site-packages\\h5py\\__init__.py:36: FutureWarning: Conversion of the second argument of issubdtype from `float` to `np.floating` is deprecated. In future, it will be treated as `np.float64 == np.dtype(float).type`.\n",
      "  from ._conv import register_converters as _register_converters\n",
      "Using TensorFlow backend.\n"
     ]
    },
    {
     "name": "stdout",
     "output_type": "stream",
     "text": [
      "_________________________________________________________________\n",
      "Layer (type)                 Output Shape              Param #   \n",
      "=================================================================\n",
      "input_1 (InputLayer)         (None, 3, 224, 224)       0         \n",
      "_________________________________________________________________\n",
      "conv1_1 (Conv2D)             (None, 64, 224, 224)      1792      \n",
      "_________________________________________________________________\n",
      "conv1_2 (Conv2D)             (None, 64, 224, 224)      36928     \n",
      "_________________________________________________________________\n",
      "pool1 (MaxPooling2D)         (None, 64, 112, 112)      0         \n",
      "_________________________________________________________________\n",
      "conv2_1 (Conv2D)             (None, 128, 112, 112)     73856     \n",
      "_________________________________________________________________\n",
      "conv2_2 (Conv2D)             (None, 128, 112, 112)     147584    \n",
      "_________________________________________________________________\n",
      "pool2 (MaxPooling2D)         (None, 128, 56, 56)       0         \n",
      "_________________________________________________________________\n",
      "conv3_1 (Conv2D)             (None, 256, 56, 56)       295168    \n",
      "_________________________________________________________________\n",
      "conv3_2 (Conv2D)             (None, 256, 56, 56)       590080    \n",
      "_________________________________________________________________\n",
      "conv3_3 (Conv2D)             (None, 256, 56, 56)       590080    \n",
      "_________________________________________________________________\n",
      "pool3 (MaxPooling2D)         (None, 256, 28, 28)       0         \n",
      "_________________________________________________________________\n",
      "conv4_1 (Conv2D)             (None, 512, 28, 28)       1180160   \n",
      "_________________________________________________________________\n",
      "conv4_2 (Conv2D)             (None, 512, 28, 28)       2359808   \n",
      "_________________________________________________________________\n",
      "conv4_3 (Conv2D)             (None, 512, 28, 28)       2359808   \n",
      "_________________________________________________________________\n",
      "pool4 (MaxPooling2D)         (None, 512, 14, 14)       0         \n",
      "_________________________________________________________________\n",
      "conv5_1 (Conv2D)             (None, 512, 14, 14)       2359808   \n",
      "_________________________________________________________________\n",
      "conv5_2 (Conv2D)             (None, 512, 14, 14)       2359808   \n",
      "_________________________________________________________________\n",
      "conv5_3 (Conv2D)             (None, 512, 14, 14)       2359808   \n",
      "_________________________________________________________________\n",
      "pool5 (MaxPooling2D)         (None, 512, 7, 7)         0         \n",
      "_________________________________________________________________\n",
      "flatten (Flatten)            (None, 25088)             0         \n",
      "_________________________________________________________________\n",
      "fc6 (Dense)                  (None, 4096)              102764544 \n",
      "_________________________________________________________________\n",
      "fc6/relu (Activation)        (None, 4096)              0         \n",
      "_________________________________________________________________\n",
      "fc7 (Dense)                  (None, 4096)              16781312  \n",
      "=================================================================\n",
      "Total params: 134,260,544\n",
      "Trainable params: 134,260,544\n",
      "Non-trainable params: 0\n",
      "_________________________________________________________________\n"
     ]
    },
    {
     "name": "stderr",
     "output_type": "stream",
     "text": [
      "E:\\ML\\Anaconda3\\envs\\TF\\lib\\site-packages\\keras_vggface\\models.py:130: UserWarning: You are using the TensorFlow backend, yet you are using the Theano image data format convention (`image_data_format=\"channels_first\"`). For best performance, set `image_data_format=\"channels_last\"` in your Keras config at ~/.keras/keras.json.\n",
      "  warnings.warn('You are using the TensorFlow backend, yet you '\n"
     ]
    }
   ],
   "source": [
    "from keras_vggface.vggface import VGGFace\n",
    "from keras import backend as K\n",
    "K.set_image_dim_ordering('th')\n",
    "\n",
    "from keras.engine import Model\n",
    "from keras.layers import Input\n",
    "\n",
    "# vgg_model_new = VGGFace(model='vgg16')\n",
    "# vgg_model_new.summary()\n",
    "\n",
    "layer_name = 'fc7' \n",
    "vgg_model = VGGFace() \n",
    "out = vgg_model.get_layer(layer_name).output\n",
    "vgg_model_new = Model(vgg_model.input, out)\n",
    "vgg_model_new.summary()"
   ]
  },
  {
   "cell_type": "code",
   "execution_count": 2,
   "metadata": {},
   "outputs": [],
   "source": [
    "def get_image_features(image_file_name):\n",
    "    ''' Runs the given image_file to VGG 16 model and returns the \n",
    "    weights (filters) as a 1, 4096 dimension vector '''\n",
    "    image_features = np.zeros((1, 4096))\n",
    "\n",
    "    im = cv2.resize(cv2.imread(image_file_name), (224, 224))\n",
    "\n",
    "\n",
    "    # The mean pixel values are taken from the VGG authors, which are the values computed from the training dataset.\n",
    "    mean_pixel = [93.5940, 104.7624, 129.1863]\n",
    "\n",
    "    im = im.astype(np.float32, copy=False) # shape of im = (224,224,3)\n",
    "    \n",
    "    for c in range(3):\n",
    "        im[:, :, c] = im[:, :, c] - mean_pixel[c]        \n",
    "\n",
    "    im = im.transpose((2,0,1)) # convert the image to RGBA  # shame of im= (3,224,224)\n",
    "\n",
    "    \n",
    "    # this axis dimension is required becuase VGG was trained on a dimension\n",
    "    # of 1, 3, 224, 224 (first axis is for the batch size\n",
    "    # even though we are using only one image, we have to keep the dimensions consistent\n",
    "    im = np.expand_dims(im, axis=0)  # shape of im = (1,3,224,224)\n",
    "\n",
    "    image_features[0,:] = vgg_model_new.predict(im)[0]\n",
    "    return image_features"
   ]
  },
  {
   "cell_type": "code",
   "execution_count": 3,
   "metadata": {
    "scrolled": false
   },
   "outputs": [
    {
     "name": "stdout",
     "output_type": "stream",
     "text": [
      "Extracting Features of dataset- pair 1\n",
      "\n"
     ]
    }
   ],
   "source": [
    "import os\n",
    "import cv2, spacy, numpy as np\n",
    "import pickle\n",
    "\n",
    "PATH=os.getcwd()\n",
    "data_path = PATH + '/dataset'\n",
    "data_dir_list = os.listdir(data_path)\n",
    "\n",
    "image_features_list=[]\n",
    "\n",
    "for dataset in data_dir_list:\n",
    "    img_list=os.listdir(data_path+'/'+ dataset)\n",
    "    print ('Extracting Features of dataset- '+'{}\\n'.format(dataset))\n",
    "    for img in img_list:\n",
    "        image_features=get_image_features(data_path + '/'+ dataset + '/'+ img )\n",
    "        image_features_list.append(image_features)\n",
    "    \n",
    "    \n",
    "image_features_arr=np.asarray(image_features_list)\n",
    "image_features_arr = np.rollaxis(image_features_arr,1,0)\n",
    "image_features_arr = image_features_arr[0,:,:]\n",
    "\n",
    "#np.savetxt('feature_vectors1.txt',image_features_arr)\n",
    "#feature_vectors = np.loadtxt('feature_vectors.txt')\n",
    "pickle.dump(image_features_arr, open('feature_vectors1.pkl', 'wb'))\n"
   ]
  },
  {
   "cell_type": "code",
   "execution_count": 4,
   "metadata": {},
   "outputs": [
    {
     "data": {
      "text/plain": [
       "(6, 4096)"
      ]
     },
     "execution_count": 4,
     "metadata": {},
     "output_type": "execute_result"
    }
   ],
   "source": [
    "image_features_arr.shape"
   ]
  },
  {
   "cell_type": "code",
   "execution_count": 5,
   "metadata": {},
   "outputs": [],
   "source": [
    "pickle_in = open(\"feature_vectors1.pkl\",\"rb\")\n",
    "X = pickle.load(pickle_in)"
   ]
  },
  {
   "cell_type": "code",
   "execution_count": 6,
   "metadata": {},
   "outputs": [
    {
     "data": {
      "text/plain": [
       "(6, 2)"
      ]
     },
     "execution_count": 6,
     "metadata": {},
     "output_type": "execute_result"
    }
   ],
   "source": [
    "from sklearn.manifold import TSNE\n",
    "from glob import glob\n",
    "import matplotlib\n",
    "import pickle\n",
    "import matplotlib.pyplot as plt\n",
    "from matplotlib.offsetbox import OffsetImage, AnnotationBbox\n",
    "\n",
    "# X_embedded = TSNE(n_components=2).fit_transform(X)\n",
    "X_embedded = TSNE(n_components=2, perplexity = 2.0, \n",
    "                 early_exaggeration=12.0, learning_rate=10.0, \n",
    "                 n_iter=1000, n_iter_without_progress=300, \n",
    "                 min_grad_norm=1e-07, metric='euclidean', \n",
    "                 init='random', verbose=0, \n",
    "                 random_state=None, method='barnes_hut', angle=0.3).fit_transform(X)\n",
    "X_embedded.shape"
   ]
  },
  {
   "cell_type": "code",
   "execution_count": 7,
   "metadata": {},
   "outputs": [],
   "source": [
    "def visualize_scatter(data_2d, label_ids, figsize=(12,12)):\n",
    "    plt.figure(figsize=figsize)\n",
    "    plt.grid()\n",
    " \n",
    "    nb_classes = len(np.unique(label_ids))\n",
    "    \n",
    "    for label_id in np.unique(label_ids):\n",
    "#         plt.figure(figsize=figsize)\n",
    "#         plt.grid()\n",
    "        plt.title(\" data \")\n",
    "        plt.scatter(data_2d[np.where(label_ids == label_id), 0],\n",
    "                    data_2d[np.where(label_ids == label_id), 1],\n",
    "                    marker='o',                    \n",
    "                    color= plt.cm.Set1(label_id / float(nb_classes)),\n",
    "                    linewidth='1',\n",
    "                    alpha=1,\n",
    "                    label=id_to_label_dict[label_id]) \n",
    "        \n",
    "    \n",
    "        \n",
    "#        plt.title(id_to_label_dict[label_id])\n",
    "        plt.legend(loc='best')  \n",
    "#     plt.savefig('pair 4 .png')"
   ]
  },
  {
   "cell_type": "code",
   "execution_count": 9,
   "metadata": {},
   "outputs": [],
   "source": [
    "images = []\n",
    "labels = []\n",
    "\n",
    "PATH=os.getcwd()\n",
    "DATA_FOLDER = PATH + '/dataset'\n",
    "\n",
    "for class_folder_name in os.listdir(DATA_FOLDER):\n",
    "    class_folder_path = os.path.join(DATA_FOLDER, class_folder_name)\n",
    "    for image_path in glob(os.path.join(class_folder_path, \"*.png\")):\n",
    "        image = cv2.imread(image_path, cv2.IMREAD_COLOR)\n",
    "        \n",
    "        images.append(image)\n",
    "        labels.append(class_folder_name)\n",
    "        \n",
    "images = np.array(images)\n",
    "labels = np.array(labels) "
   ]
  },
  {
   "cell_type": "code",
   "execution_count": 10,
   "metadata": {},
   "outputs": [],
   "source": [
    "label_to_id_dict = {v:i for i,v in enumerate(np.unique(labels))}\n",
    "id_to_label_dict = {v: k for k, v in label_to_id_dict.items()}"
   ]
  },
  {
   "cell_type": "code",
   "execution_count": 11,
   "metadata": {},
   "outputs": [
    {
     "data": {
      "text/plain": [
       "(6,)"
      ]
     },
     "execution_count": 11,
     "metadata": {},
     "output_type": "execute_result"
    }
   ],
   "source": [
    "label_ids = np.array([label_to_id_dict[x] for x in labels])\n",
    "label_ids.shape "
   ]
  },
  {
   "cell_type": "code",
   "execution_count": 12,
   "metadata": {
    "scrolled": false
   },
   "outputs": [
    {
     "data": {
      "image/png": "[encoded data removed]",
      "text/plain": [
       "<Figure size 864x864 with 1 Axes>"
      ]
     },
     "metadata": {
      "needs_background": "light"
     },
     "output_type": "display_data"
    }
   ],
   "source": [
    "visualize_scatter(X_embedded, label_ids)"
   ]
  }
 ],
 "metadata": {
  "kernelspec": {
   "display_name": "Python 3",
   "language": "python",
   "name": "python3"
  },
  "language_info": {
   "codemirror_mode": {
    "name": "ipython",
    "version": 3
   },
   "file_extension": ".py",
   "mimetype": "text/x-python",
   "name": "python",
   "nbconvert_exporter": "python",
   "pygments_lexer": "ipython3",
   "version": "3.6.6"
  }
 },
 "nbformat": 4,
 "nbformat_minor": 2
}
